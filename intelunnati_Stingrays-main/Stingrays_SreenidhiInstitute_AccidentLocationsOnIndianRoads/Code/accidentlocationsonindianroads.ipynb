{
 "cells": [
  {
   "cell_type": "code",
   "execution_count": 1,
   "id": "a6892ee0",
   "metadata": {},
   "outputs": [],
   "source": [
    "from accidents import areas"
   ]
  },
  {
   "cell_type": "code",
   "execution_count": 2,
   "id": "adde8f89",
   "metadata": {},
   "outputs": [],
   "source": [
    "import sys"
   ]
  },
  {
   "cell_type": "code",
   "execution_count": 3,
   "id": "2e4712e0",
   "metadata": {},
   "outputs": [],
   "source": [
    "from ipyleaflet import Map, Marker, basemaps\n"
   ]
  },
  {
   "cell_type": "code",
   "execution_count": 4,
   "id": "ac040dc0",
   "metadata": {},
   "outputs": [],
   "source": [
    "m = Map(\n",
    "    basemap=basemaps.OpenStreetMap.Mapnik,\n",
    "    center=(20.5, 78.9),\n",
    "    zoom=4\n",
    ")\n"
   ]
  },
  {
   "cell_type": "code",
   "execution_count": 5,
   "id": "8249511e",
   "metadata": {},
   "outputs": [],
   "source": [
    "for area, coordinates in areas.items():\n",
    "    marker = Marker(location=(coordinates[\"latitude\"], coordinates[\"longitude\"]))\n",
    "    m.add_layer(marker)\n"
   ]
  },
  {
   "cell_type": "code",
   "execution_count": 6,
   "id": "36cb2068",
   "metadata": {},
   "outputs": [
    {
     "data": {
      "application/vnd.jupyter.widget-view+json": {
       "model_id": "a3addf52c05442a38b12193b2ceeb5e4",
       "version_major": 2,
       "version_minor": 0
      },
      "text/plain": [
       "Map(center=[20.5, 78.9], controls=(ZoomControl(options=['position', 'zoom_in_text', 'zoom_in_title', 'zoom_out…"
      ]
     },
     "metadata": {},
     "output_type": "display_data"
    }
   ],
   "source": [
    "display(m)"
   ]
  },
  {
   "cell_type": "code",
   "execution_count": null,
   "id": "6cf2ad4c",
   "metadata": {},
   "outputs": [],
   "source": []
  }
 ],
 "metadata": {
  "kernelspec": {
   "display_name": "Python 3 (ipykernel)",
   "language": "python",
   "name": "python3"
  },
  "language_info": {
   "codemirror_mode": {
    "name": "ipython",
    "version": 3
   },
   "file_extension": ".py",
   "mimetype": "text/x-python",
   "name": "python",
   "nbconvert_exporter": "python",
   "pygments_lexer": "ipython3",
   "version": "3.10.7"
  }
 },
 "nbformat": 4,
 "nbformat_minor": 5
}
